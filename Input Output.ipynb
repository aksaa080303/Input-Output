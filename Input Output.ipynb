{
 "cells": [
  {
   "cell_type": "markdown",
   "id": "94036b79",
   "metadata": {},
   "source": [
    "InputOutput \n"
   ]
  },
  {
   "cell_type": "code",
   "execution_count": 6,
   "id": "28ff9ca9",
   "metadata": {},
   "outputs": [
    {
     "name": "stdout",
     "output_type": "stream",
     "text": [
      "Isikan bilangan 11\n",
      "Isikan bilangan 22\n",
      "Hasil  1 + 2 = 3\n"
     ]
    }
   ],
   "source": [
    "bil1 = input('Isikan bilangan 1')\n",
    "bil2 = input('Isikan bilangan 2')\n",
    "hasil = int(bil1) + int(bil2)\n",
    "print(\"Hasil \", bil1, \"+\", bil2,\"=\",hasil)"
   ]
  },
  {
   "cell_type": "code",
   "execution_count": 9,
   "id": "c34b05a1",
   "metadata": {},
   "outputs": [
    {
     "name": "stdout",
     "output_type": "stream",
     "text": [
      "mencari panjang12\n",
      "mencari lebar2\n",
      "Hasil 12 * 2 = 24\n"
     ]
    }
   ],
   "source": [
    "panjang = input('mencari panjang')\n",
    "lebar = input('mencari lebar')\n",
    "hasil = int(panjang) * int(lebar)\n",
    "print(\"Hasil\",panjang, \"*\", lebar, \"=\",hasil)\n"
   ]
  },
  {
   "cell_type": "code",
   "execution_count": 14,
   "id": "84be3343",
   "metadata": {},
   "outputs": [
    {
     "name": "stdout",
     "output_type": "stream",
     "text": [
      "X\n",
      "W\n",
      "Y\n",
      "Z\n"
     ]
    }
   ],
   "source": [
    "print (\"X\",\"W\",\"Y\",\"Z\", sep='\\n')"
   ]
  },
  {
   "cell_type": "code",
   "execution_count": 13,
   "id": "92aa9a16",
   "metadata": {},
   "outputs": [
    {
     "name": "stdout",
     "output_type": "stream",
     "text": [
      "hasil dari8 modulus 10 = 8\n"
     ]
    }
   ],
   "source": [
    "num_1 = 8\n",
    "num_2 = 10\n",
    "\n",
    "# hasil dari 8 modulus 10 = 8\n",
    "#str.format()\n",
    "\n",
    "print('hasil dari{} modulus {} = {}'. format(num_1,num_2,num_1%num_2))"
   ]
  },
  {
   "cell_type": "code",
   "execution_count": 15,
   "id": "e41fc138",
   "metadata": {},
   "outputs": [
    {
     "name": "stdout",
     "output_type": "stream",
     "text": [
      "Nama anda Yudhoyono Bambang Susilo\n"
     ]
    }
   ],
   "source": [
    "fname = \"Bambang\"\n",
    "mname = \"Susilo\"\n",
    "lname = \"Yudhoyono\"\n",
    "\n",
    "print('Nama anda {2} {0} {1}'.format(fname,mname,lname))"
   ]
  },
  {
   "cell_type": "code",
   "execution_count": 16,
   "id": "ec75bccb",
   "metadata": {},
   "outputs": [
    {
     "name": "stdout",
     "output_type": "stream",
     "text": [
      "Nama anda Gopal, nilai anda 20\n"
     ]
    }
   ],
   "source": [
    "print('Nama anda {nama}, nilai anda {nilai}'.format(nama='Gopal',nilai=20))"
   ]
  },
  {
   "cell_type": "code",
   "execution_count": 19,
   "id": "f98cd08e",
   "metadata": {},
   "outputs": [
    {
     "name": "stdout",
     "output_type": "stream",
     "text": [
      "karakter pertama :  I\n",
      "karakter terakhir :  g\n",
      "Institut Teknologi Ban\n"
     ]
    }
   ],
   "source": [
    "univ = \"Institut Teknologi Bandung\"\n",
    "\n",
    "print(\"karakter pertama : \",univ[0])\n",
    "print(\"karakter terakhir : \",univ[-1])\n",
    "#unversitas\n",
    "print(univ[0:22])\n"
   ]
  },
  {
   "cell_type": "code",
   "execution_count": 23,
   "id": "d1755a0c",
   "metadata": {},
   "outputs": [
    {
     "name": "stdout",
     "output_type": "stream",
     "text": [
      "Nama saya Adudu Batman\n",
      "Hasil penjumlahan 100 + 50 = 150\n"
     ]
    }
   ],
   "source": [
    "f_name = 'Adudu'\n",
    "l_name = 'Batman'\n",
    "\n",
    "print(f'Nama saya {f_name} {l_name}')\n",
    "\n",
    "first = 100\n",
    "second = 50\n",
    "\n",
    "print(f'Hasil penjumlahan {first} + {second} = {first+second}')"
   ]
  },
  {
   "cell_type": "code",
   "execution_count": 34,
   "id": "1d77d615",
   "metadata": {},
   "outputs": [
    {
     "ename": "SyntaxError",
     "evalue": "f-string: invalid syntax (2251820374.py, line 20)",
     "output_type": "error",
     "traceback": [
      "\u001b[1;36m  Input \u001b[1;32mIn [34]\u001b[1;36m\u001b[0m\n\u001b[1;33m    print(f'tanggal : {pemisah{0}}, bulan : {pemisah{1}}, tahun : {pemisah{2}}')\u001b[0m\n\u001b[1;37m            ^\u001b[0m\n\u001b[1;31mSyntaxError\u001b[0m\u001b[1;31m:\u001b[0m f-string: invalid syntax\n"
     ]
    }
   ],
   "source": [
    "nama = \"Americano,Vanilla,Oreo\"\n",
    "nama2 = \"Americano Vanila Oreo\"\n",
    "#split -> memisahkan string berdasarkan karakter tertentu\n",
    "print(nama2.split())\n",
    "print(nama.split(','))\n",
    "\n",
    "#join ->menggabungkan karakter kedalam kumpulan karakter\n",
    "print('@'.join(nama.split(',')))\n",
    "\n",
    "#input:\n",
    "#tgl - 14/maret/2024\n",
    "#input nama -> Lionel Messi\n",
    "#output:\n",
    "#tgl : Bulan:Maret, Tahun : 2003\n",
    "#Nama Initial : LM \n",
    "\n",
    "tgl =input(\"Masukan Tanggal Lahir\")\n",
    "nama =input(\"Masukan nama\")\n",
    "pemisah = tgl.split('/')\n",
    "print(f'tanggal : {pemisah{0}}, bulan : {pemisah{1}}, tahun : {pemisah{2}}')\n",
    "pemisah2 = nama.split()\n",
    "nama_pertama = pemisah2 {0}\n",
    "nama_terakhir = pemisah {1}\n",
    "print(f'Nama inisial : {nama_pertama{0}+nama_terakhir{0}}')"
   ]
  },
  {
   "cell_type": "code",
   "execution_count": null,
   "id": "14ba8c29",
   "metadata": {},
   "outputs": [],
   "source": []
  }
 ],
 "metadata": {
  "kernelspec": {
   "display_name": "Python 3 (ipykernel)",
   "language": "python",
   "name": "python3"
  },
  "language_info": {
   "codemirror_mode": {
    "name": "ipython",
    "version": 3
   },
   "file_extension": ".py",
   "mimetype": "text/x-python",
   "name": "python",
   "nbconvert_exporter": "python",
   "pygments_lexer": "ipython3",
   "version": "3.9.12"
  }
 },
 "nbformat": 4,
 "nbformat_minor": 5
}
